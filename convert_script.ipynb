{
 "cells": [
  {
   "cell_type": "markdown",
   "id": "7c0c31cd",
   "metadata": {},
   "source": [
    "**Script:** https://github.com/x4nth055/pythoncode-tutorials/blob/master/machine-learning/speech-emotion-recognition/convert_wavs.py"
   ]
  },
  {
   "cell_type": "markdown",
   "id": "b38f0a74",
   "metadata": {},
   "source": [
    "This script needs ffmpeg to be installed on the device"
   ]
  },
  {
   "cell_type": "code",
   "execution_count": 1,
   "id": "57f14cae",
   "metadata": {},
   "outputs": [],
   "source": [
    "import os\n",
    "import argparse"
   ]
  },
  {
   "cell_type": "code",
   "execution_count": 17,
   "id": "2d0b3f65",
   "metadata": {},
   "outputs": [],
   "source": [
    "def convert_audio(audio_path, target_path, remove=False):\n",
    "    \"\"\"This function sets the audio `audio_path` to:\n",
    "        - 16000Hz Sampling rate\n",
    "        - one audio channel ( mono )\n",
    "            Params:\n",
    "                audio_path (str): the path of audio wav file you want to convert\n",
    "                target_path (str): target path to save your new converted wav file\n",
    "                remove (bool): whether to remove the old file after converting\n",
    "        Note that this function requires ffmpeg installed in your system.\"\"\"\n",
    "\n",
    "    os.system(f\"ffmpeg -i {audio_path} -ac 1 -ar 16000 {target_path}\")\n",
    "    # os.system(f\"ffmpeg -i {audio_path} -ac 1 {target_path}\")\n",
    "    if remove:\n",
    "        os.remove(audio_path)\n",
    "\n",
    "\n",
    "def convert_audios(path, target_path, remove=False):\n",
    "    \"\"\"Converts a path of wav files to:\n",
    "        - 16000Hz Sampling rate\n",
    "        - one audio channel ( mono )\n",
    "        and then put them into a new folder called `target_path`\n",
    "            Params:\n",
    "                audio_path (str): the path of audio wav file you want to convert\n",
    "                target_path (str): target path to save your new converted wav file\n",
    "                remove (bool): whether to remove the old file after converting\n",
    "        Note that this function requires ffmpeg installed in your system.\"\"\"\n",
    "\n",
    "    for dirpath, dirnames, filenames in os.walk(path):\n",
    "        for dirname in dirnames:\n",
    "            dirname = os.path.join(dirpath, dirname)\n",
    "            target_dir = dirname.replace(path, target_path)\n",
    "            if not os.path.isdir(target_dir):\n",
    "                os.mkdir(target_dir)\n",
    "\n",
    "    for dirpath, _, filenames in os.walk(path):\n",
    "        for filename in filenames:\n",
    "            file = os.path.join(dirpath, filename)\n",
    "            if file.endswith(\".wav\"):\n",
    "                # it is a wav file\n",
    "                target_file = file.replace(path, target_path)\n",
    "                convert_audio(file, target_file, remove=remove)"
   ]
  },
  {
   "cell_type": "code",
   "execution_count": 72,
   "id": "04468938",
   "metadata": {},
   "outputs": [],
   "source": [
    "parser = argparse.ArgumentParser(description=\"\"\"Convert ( compress ) wav files to 16MHz and mono audio channel ( 1 channel )\n",
    "                                                    This utility helps for compressing wav files for training and testing\"\"\")\n",
    "parser.add_argument(\"audio_path\", help=\"Folder that contains wav files you want to convert\")\n",
    "parser.add_argument(\"target_path\", help=\"Folder to save new wav files\")\n",
    "parser.add_argument(\"-r\", \"--remove\", type=bool, help=\"Whether to remove the old wav file after converting\", default=False)\n",
    "\n",
    "argv = [\"\" , \"media\\Actor_24\", \"media_converted\\Actor_24\"]\n",
    "    \n",
    "args = parser.parse_args(argv[1:])\n",
    "audio_path = args.audio_path\n",
    "target_path = args.target_path\n",
    "\n",
    "if os.path.isdir(audio_path):\n",
    "    if not os.path.isdir(target_path):\n",
    "        os.makedirs(target_path)\n",
    "        convert_audios(audio_path, target_path, remove=args.remove)\n",
    "elif os.path.isfile(audio_path) and audio_path.endswith(\".wav\"):\n",
    "    if not target_path.endswith(\".wav\"):\n",
    "        target_path += \".wav\"\n",
    "    convert_audio(audio_path, target_path, remove=args.remove)\n",
    "else:\n",
    "    raise TypeError(\"The audio_path file you specified isn't appropriate for this operation\")"
   ]
  },
  {
   "cell_type": "markdown",
   "id": "50836594",
   "metadata": {},
   "source": [
    "Let's check random file"
   ]
  },
  {
   "cell_type": "code",
   "execution_count": 5,
   "id": "ab688df6",
   "metadata": {},
   "outputs": [
    {
     "name": "stdout",
     "output_type": "stream",
     "text": [
      "AudioMetaData(sample_rate=16000, num_frames=61395, num_channels=1, bits_per_sample=16, encoding=PCM_S)\n"
     ]
    }
   ],
   "source": [
    "import torchaudio\n",
    "metadata = torchaudio.info(\"media_converted\\Actor_17\\03-01-01-01-01-01-17.wav\")\n",
    "print(metadata)"
   ]
  },
  {
   "cell_type": "markdown",
   "id": "9fac4c93",
   "metadata": {},
   "source": [
    "Correct!"
   ]
  }
 ],
 "metadata": {
  "kernelspec": {
   "display_name": "Python 3 (ipykernel)",
   "language": "python",
   "name": "python3"
  },
  "language_info": {
   "codemirror_mode": {
    "name": "ipython",
    "version": 3
   },
   "file_extension": ".py",
   "mimetype": "text/x-python",
   "name": "python",
   "nbconvert_exporter": "python",
   "pygments_lexer": "ipython3",
   "version": "3.9.7"
  }
 },
 "nbformat": 4,
 "nbformat_minor": 5
}
